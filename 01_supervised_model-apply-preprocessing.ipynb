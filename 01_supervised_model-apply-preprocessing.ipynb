{
 "cells": [
  {
   "cell_type": "code",
   "execution_count": 1,
   "metadata": {},
   "outputs": [],
   "source": [
    "import fastText\n",
    "import pandas as pd\n",
    "from sklearn.model_selection import train_test_split\n",
    "import csv\n",
    "import re\n",
    "import numpy as np\n",
    "from sklearn.metrics import confusion_matrix\n",
    "import seaborn as sn\n",
    "import pandas as pd\n",
    "import matplotlib.pyplot as plt\n",
    "import os\n",
    "\n",
    "np.set_printoptions(suppress=True)\n",
    "# from gensim.models.wrappers import FastText \n",
    "\n",
    "os.chdir('/home/swaroop/Downloads/fastText_template')"
   ]
  },
  {
   "cell_type": "code",
   "execution_count": 2,
   "metadata": {},
   "outputs": [],
   "source": [
    "df = pd.read_csv('yelp_review.csv')"
   ]
  },
  {
   "cell_type": "code",
   "execution_count": 3,
   "metadata": {},
   "outputs": [],
   "source": [
    "df = df[['stars', 'text']]"
   ]
  },
  {
   "cell_type": "code",
   "execution_count": 4,
   "metadata": {},
   "outputs": [],
   "source": [
    "df['stars'] = df['stars'].apply(lambda x: '__label__'+str(x))"
   ]
  },
  {
   "cell_type": "code",
   "execution_count": 5,
   "metadata": {},
   "outputs": [
    {
     "data": {
      "text/html": [
       "<div>\n",
       "<style scoped>\n",
       "    .dataframe tbody tr th:only-of-type {\n",
       "        vertical-align: middle;\n",
       "    }\n",
       "\n",
       "    .dataframe tbody tr th {\n",
       "        vertical-align: top;\n",
       "    }\n",
       "\n",
       "    .dataframe thead th {\n",
       "        text-align: right;\n",
       "    }\n",
       "</style>\n",
       "<table border=\"1\" class=\"dataframe\">\n",
       "  <thead>\n",
       "    <tr style=\"text-align: right;\">\n",
       "      <th></th>\n",
       "      <th>stars</th>\n",
       "      <th>text</th>\n",
       "    </tr>\n",
       "  </thead>\n",
       "  <tbody>\n",
       "    <tr>\n",
       "      <th>0</th>\n",
       "      <td>__label__5</td>\n",
       "      <td>Super simple place but amazing nonetheless. It...</td>\n",
       "    </tr>\n",
       "    <tr>\n",
       "      <th>1</th>\n",
       "      <td>__label__5</td>\n",
       "      <td>Small unassuming place that changes their menu...</td>\n",
       "    </tr>\n",
       "    <tr>\n",
       "      <th>2</th>\n",
       "      <td>__label__5</td>\n",
       "      <td>Lester's is located in a beautiful neighborhoo...</td>\n",
       "    </tr>\n",
       "    <tr>\n",
       "      <th>3</th>\n",
       "      <td>__label__4</td>\n",
       "      <td>Love coming here. Yes the place always needs t...</td>\n",
       "    </tr>\n",
       "    <tr>\n",
       "      <th>4</th>\n",
       "      <td>__label__4</td>\n",
       "      <td>Had their chocolate almond croissant and it wa...</td>\n",
       "    </tr>\n",
       "  </tbody>\n",
       "</table>\n",
       "</div>"
      ],
      "text/plain": [
       "        stars                                               text\n",
       "0  __label__5  Super simple place but amazing nonetheless. It...\n",
       "1  __label__5  Small unassuming place that changes their menu...\n",
       "2  __label__5  Lester's is located in a beautiful neighborhoo...\n",
       "3  __label__4  Love coming here. Yes the place always needs t...\n",
       "4  __label__4  Had their chocolate almond croissant and it wa..."
      ]
     },
     "execution_count": 5,
     "metadata": {},
     "output_type": "execute_result"
    }
   ],
   "source": [
    "df.head()"
   ]
  },
  {
   "cell_type": "code",
   "execution_count": 6,
   "metadata": {},
   "outputs": [],
   "source": [
    "symbols_to_isolate = '.,?!-;*\"…:—()%#$&_/@＼・ω+=”“[]^–>\\\\°<~•≠™ˈʊɒ∞§{}·τα❤☺ɡ|¢→̶`❥━┣┫┗Ｏ►★©―ɪ✔®\\x96\\x92●£♥➤´¹☕≈÷♡◐║▬′ɔː€۩۞†μ✒➥═☆ˌ◄½ʻπδηλσερνʃ✬ＳＵＰＥＲＩＴ☻±♍µº¾✓◾؟．⬅℅»Вав❣⋅¿¬♫ＣＭβ█▓▒░⇒⭐›¡₂₃❧▰▔◞▀▂▃▄▅▆▇↙γ̄″☹➡«φ⅓„✋：¥̲̅́∙‛◇✏▷❓❗¶˚˙）сиʿ✨。ɑ\\x80◕！％¯−ﬂﬁ₁²ʌ¼⁴⁄₄⌠♭✘╪▶☭✭♪☔☠♂☃☎✈✌✰❆☙○‣⚓年∎ℒ▪▙☏⅛ｃａｓǀ℮¸ｗ‚∼‖ℳ❄←☼⋆ʒ⊂、⅔¨͡๏⚾⚽Φ×θ￦？（℃⏩☮⚠月✊❌⭕▸■⇌☐☑⚡☄ǫ╭∩╮，例＞ʕɐ̣Δ₀✞┈╱╲▏▕┃╰▊▋╯┳┊≥☒↑☝ɹ✅☛♩☞ＡＪＢ◔◡↓♀⬆̱ℏ\\x91⠀ˤ╚↺⇤∏✾◦♬³の｜／∵∴√Ω¤☜▲↳▫‿⬇✧ｏｖｍ－２０８＇‰≤∕ˆ⚜☁'\n",
    "symbols_to_delete = '\\n🍕\\r🐵😑\\xa0\\ue014\\t\\uf818\\uf04a\\xad😢🐶️\\uf0e0😜😎👊\\u200b\\u200e😁عدويهصقأناخلىبمغر😍💖💵Е👎😀😂\\u202a\\u202c🔥😄🏻💥ᴍʏʀᴇɴᴅᴏᴀᴋʜᴜʟᴛᴄᴘʙғᴊᴡɢ😋👏שלוםבי😱‼\\x81エンジ故障\\u2009🚌ᴵ͞🌟😊😳😧🙀😐😕\\u200f👍😮😃😘אעכח💩💯⛽🚄🏼ஜ😖ᴠ🚲‐😟😈💪🙏🎯🌹😇💔😡\\x7f👌ἐὶήιὲκἀίῃἴξ🙄Ｈ😠\\ufeff\\u2028😉😤⛺🙂\\u3000تحكسة👮💙فزط😏🍾🎉😞\\u2008🏾😅😭👻😥😔😓🏽🎆🍻🍽🎶🌺🤔😪\\x08‑🐰🐇🐱🙆😨🙃💕𝘊𝘦𝘳𝘢𝘵𝘰𝘤𝘺𝘴𝘪𝘧𝘮𝘣💗💚地獄谷улкнПоАН🐾🐕😆ה🔗🚽歌舞伎🙈😴🏿🤗🇺🇸мυтѕ⤵🏆🎃😩\\u200a🌠🐟💫💰💎эпрд\\x95🖐🙅⛲🍰🤐👆🙌\\u2002💛🙁👀🙊🙉\\u2004ˢᵒʳʸᴼᴷᴺʷᵗʰᵉᵘ\\x13🚬🤓\\ue602😵άοόςέὸתמדףנרךצט😒͝🆕👅👥👄🔄🔤👉👤👶👲🔛🎓\\uf0b7\\uf04c\\x9f\\x10成都😣⏺😌🤑🌏😯ех😲Ἰᾶὁ💞🚓🔔📚🏀👐\\u202d💤🍇\\ue613小土豆🏡❔⁉\\u202f👠》कर्मा🇹🇼🌸蔡英文🌞🎲レクサス😛外国人关系Сб💋💀🎄💜🤢َِьыгя不是\\x9c\\x9d🗑\\u2005💃📣👿༼つ༽😰ḷЗз▱ц￼🤣卖温哥华议会下降你失去所有的钱加拿大坏税骗子🐝ツ🎅\\x85🍺آإشء🎵🌎͟ἔ油别克🤡🤥😬🤧й\\u2003🚀🤴ʲшчИОРФДЯМюж😝🖑ὐύύ特殊作戦群щ💨圆明园קℐ🏈😺🌍⏏ệ🍔🐮🍁🍆🍑🌮🌯🤦\\u200d𝓒𝓲𝓿𝓵안영하세요ЖљКћ🍀😫🤤ῦ我出生在了可以说普通话汉语好极🎼🕺🍸🥂🗽🎇🎊🆘🤠👩🖒🚪天一家⚲\\u2006⚭⚆⬭⬯⏖新✀╌🇫🇷🇩🇪🇮🇬🇧😷🇨🇦ХШ🌐\\x1f杀鸡给猴看ʁ𝗪𝗵𝗲𝗻𝘆𝗼𝘂𝗿𝗮𝗹𝗶𝘇𝗯𝘁𝗰𝘀𝘅𝗽𝘄𝗱📺ϖ\\u2000үսᴦᎥһͺ\\u2007հ\\u2001ɩｙｅ൦ｌƽｈ𝐓𝐡𝐞𝐫𝐮𝐝𝐚𝐃𝐜𝐩𝐭𝐢𝐨𝐧Ƅᴨןᑯ໐ΤᏧ௦Іᴑ܁𝐬𝐰𝐲𝐛𝐦𝐯𝐑𝐙𝐣𝐇𝐂𝐘𝟎ԜТᗞ౦〔Ꭻ𝐳𝐔𝐱𝟔𝟓𝐅🐋ﬃ💘💓ё𝘥𝘯𝘶💐🌋🌄🌅𝙬𝙖𝙨𝙤𝙣𝙡𝙮𝙘𝙠𝙚𝙙𝙜𝙧𝙥𝙩𝙪𝙗𝙞𝙝𝙛👺🐷ℋ𝐀𝐥𝐪🚶𝙢Ἱ🤘ͦ💸ج패티Ｗ𝙇ᵻ👂👃ɜ🎫\\uf0a7БУі🚢🚂ગુજરાતીῆ🏃𝓬𝓻𝓴𝓮𝓽𝓼☘﴾̯﴿₽\\ue807𝑻𝒆𝒍𝒕𝒉𝒓𝒖𝒂𝒏𝒅𝒔𝒎𝒗𝒊👽😙\\u200cЛ‒🎾👹⎌🏒⛸公寓养宠物吗🏄🐀🚑🤷操美𝒑𝒚𝒐𝑴🤙🐒欢迎来到阿拉斯ספ𝙫🐈𝒌𝙊𝙭𝙆𝙋𝙍𝘼𝙅ﷻ🦄巨收赢得白鬼愤怒要买额ẽ🚗🐳𝟏𝐟𝟖𝟑𝟕𝒄𝟗𝐠𝙄𝙃👇锟斤拷𝗢𝟳𝟱𝟬⦁マルハニチロ株式社⛷한국어ㄸㅓ니͜ʖ𝘿𝙔₵𝒩ℯ𝒾𝓁𝒶𝓉𝓇𝓊𝓃𝓈𝓅ℴ𝒻𝒽𝓀𝓌𝒸𝓎𝙏ζ𝙟𝘃𝗺𝟮𝟭𝟯𝟲👋🦊多伦🐽🎻🎹⛓🏹🍷🦆为和中友谊祝贺与其想象对法如直接问用自己猜本传教士没积唯认识基督徒曾经让相信耶稣复活死怪他但当们聊些政治题时候战胜因圣把全堂结婚孩恐惧且栗谓这样还♾🎸🤕🤒⛑🎁批判检讨🏝🦁🙋😶쥐스탱트뤼도석유가격인상이경제황을렵게만들지않록잘관리해야합다캐나에서대마초와화약금의품런성분갈때는반드시허된사용🔫👁凸ὰ💲🗯𝙈Ἄ𝒇𝒈𝒘𝒃𝑬𝑶𝕾𝖙𝖗𝖆𝖎𝖌𝖍𝖕𝖊𝖔𝖑𝖉𝖓𝖐𝖜𝖞𝖚𝖇𝕿𝖘𝖄𝖛𝖒𝖋𝖂𝕴𝖟𝖈𝕸👑🚿💡知彼百\\uf005𝙀𝒛𝑲𝑳𝑾𝒋𝟒😦𝙒𝘾𝘽🏐𝘩𝘨ὼṑ𝑱𝑹𝑫𝑵𝑪🇰🇵👾ᓇᒧᔭᐃᐧᐦᑳᐨᓃᓂᑲᐸᑭᑎᓀᐣ🐄🎈🔨🐎🤞🐸💟🎰🌝🛳点击查版🍭𝑥𝑦𝑧ＮＧ👣\\uf020っ🏉ф💭🎥Ξ🐴👨🤳🦍\\x0b🍩𝑯𝒒😗𝟐🏂👳🍗🕉🐲چی𝑮𝗕𝗴🍒ꜥⲣⲏ🐑⏰鉄リ事件ї💊「」\\uf203\\uf09a\\uf222\\ue608\\uf202\\uf099\\uf469\\ue607\\uf410\\ue600燻製シ虚偽屁理屈Г𝑩𝑰𝒀𝑺🌤𝗳𝗜𝗙𝗦𝗧🍊ὺἈἡχῖΛ⤏🇳𝒙ψՁմեռայինրւդձ冬至ὀ𝒁🔹🤚🍎𝑷🐂💅𝘬𝘱𝘸𝘷𝘐𝘭𝘓𝘖𝘹𝘲𝘫کΒώ💢ΜΟΝΑΕ🇱♲𝝈↴💒⊘Ȼ🚴🖕🖤🥘📍👈➕🚫🎨🌑🐻𝐎𝐍𝐊𝑭🤖🎎😼🕷ｇｒｎｔｉｄｕｆｂｋ𝟰🇴🇭🇻🇲𝗞𝗭𝗘𝗤👼📉🍟🍦🌈🔭《🐊🐍\\uf10aლڡ🐦\\U0001f92f\\U0001f92a🐡💳ἱ🙇𝗸𝗟𝗠𝗷🥜さようなら🔼'\n",
    "\n",
    "\n",
    "isolate_dict = {ord(c):f' {c} ' for c in symbols_to_isolate}\n",
    "remove_dict = {ord(c):f'' for c in symbols_to_delete}\n",
    "\n",
    "\n",
    "def handle_punctuation(x):\n",
    "    x = x.translate(remove_dict)\n",
    "    x = x.translate(isolate_dict)\n",
    "    return x\n",
    "\n",
    "def handle_contractions(x):\n",
    "    x = tokenizer.tokenize(x)\n",
    "    return x\n",
    "\n",
    "def fix_quote(x):\n",
    "    x = [x_[1:] if x_.startswith(\"'\") else x_ for x_ in x]\n",
    "    x = ' '.join(x)\n",
    "    return x\n",
    "\n",
    "def preprocess(x):\n",
    "    x = handle_punctuation(x)\n",
    "    x = handle_contractions(x)\n",
    "    x = fix_quote(x)\n",
    "    return x\n",
    "\n",
    "df['text'] = df['text'].apply(lambda x:preprocess(x))\n",
    "# df['text'] = df['text'].apply(normalize)"
   ]
  },
  {
   "cell_type": "code",
   "execution_count": 7,
   "metadata": {},
   "outputs": [],
   "source": [
    "# def normalize(s):\n",
    "#     \"\"\"\n",
    "#     Given a text, cleans and normalizes it. Feel free to add your own stuff.\n",
    "#     \"\"\"\n",
    "#     s = s.lower()\n",
    "#     # Replace ips\n",
    "#     s = re.sub(r'\\d{1,3}\\.\\d{1,3}\\.\\d{1,3}\\.\\d{1,3}', ' _ip_ ', s)\n",
    "#     # Isolate punctuation\n",
    "#     s = re.sub(r'([.\\(\\)\\!\\?\\-\\\\\\/\\,])', r' \\1 ', s)\n",
    "#     # Remove some special characters\n",
    "#     s = re.sub(r'([\\;\\:\\|•«\\n])', ' ', s)\n",
    "#     # Replace numbers and symbols with language\n",
    "#     s = s.replace('&', ' and ')\n",
    "#     s = s.replace('@', ' at ')\n",
    "#     s = s.replace('0', ' zero ')\n",
    "#     s = s.replace('1', ' one ')\n",
    "#     s = s.replace('2', ' two ')\n",
    "#     s = s.replace('3', ' three ')\n",
    "#     s = s.replace('4', ' four ')\n",
    "#     s = s.replace('5', ' five ')\n",
    "#     s = s.replace('6', ' six ')\n",
    "#     s = s.replace('7', ' seven ')\n",
    "#     s = s.replace('8', ' eight ')\n",
    "#     s = s.replace('9', ' nine ')\n",
    "#     return s"
   ]
  },
  {
   "cell_type": "code",
   "execution_count": 8,
   "metadata": {},
   "outputs": [],
   "source": [
    "# Convert all upper case to lower case and separate out the punctuations\n",
    "# df['text'] = df['text'].apply(normalize)"
   ]
  },
  {
   "cell_type": "markdown",
   "metadata": {},
   "source": [
    "#### Split the whole dataset into training and validation.  fastText uses the c++ api directly so the computation is actualy happening outside of the notebook. Hence you cannot pass pandas dataframe or other general objects into fastText directly. You need to saved the training file in a text file format. Acceptable separators: space '\\s' and tabs '\\t'"
   ]
  },
  {
   "cell_type": "code",
   "execution_count": 9,
   "metadata": {},
   "outputs": [],
   "source": [
    "train, test = train_test_split(df, test_size=0.2)\n",
    "# train_file = 'nb_train.csv'\n",
    "# test_file = 'nb_test.csv'\n",
    "# train.to_csv(\"nb_train.csv\", sep=\"\\t\", quoting=csv.QUOTE_NONE, index=False, header=False)\n",
    "# test.to_csv(\"nb_test.csv\", sep=\"\\t\", quoting=csv.QUOTE_NONE, index=False, header=False)"
   ]
  },
  {
   "cell_type": "code",
   "execution_count": 10,
   "metadata": {},
   "outputs": [
    {
     "data": {
      "text/html": [
       "<div>\n",
       "<style scoped>\n",
       "    .dataframe tbody tr th:only-of-type {\n",
       "        vertical-align: middle;\n",
       "    }\n",
       "\n",
       "    .dataframe tbody tr th {\n",
       "        vertical-align: top;\n",
       "    }\n",
       "\n",
       "    .dataframe thead th {\n",
       "        text-align: right;\n",
       "    }\n",
       "</style>\n",
       "<table border=\"1\" class=\"dataframe\">\n",
       "  <thead>\n",
       "    <tr style=\"text-align: right;\">\n",
       "      <th></th>\n",
       "      <th>stars</th>\n",
       "      <th>text</th>\n",
       "    </tr>\n",
       "  </thead>\n",
       "  <tbody>\n",
       "    <tr>\n",
       "      <th>151155</th>\n",
       "      <td>__label__5</td>\n",
       "      <td>Ruth s Chris is terrific in every way . Servic...</td>\n",
       "    </tr>\n",
       "    <tr>\n",
       "      <th>4128278</th>\n",
       "      <td>__label__2</td>\n",
       "      <td>Visited in 2012 \\ / 13 - Amazing , 5 \\ / 5 sta...</td>\n",
       "    </tr>\n",
       "    <tr>\n",
       "      <th>4938406</th>\n",
       "      <td>__label__2</td>\n",
       "      <td>This seems to me like a mash up between Granvi...</td>\n",
       "    </tr>\n",
       "    <tr>\n",
       "      <th>1634389</th>\n",
       "      <td>__label__4</td>\n",
       "      <td>What a treasure ! It s hidden behind downtown ...</td>\n",
       "    </tr>\n",
       "    <tr>\n",
       "      <th>93980</th>\n",
       "      <td>__label__4</td>\n",
       "      <td>My brother in law took us here for dinner , th...</td>\n",
       "    </tr>\n",
       "  </tbody>\n",
       "</table>\n",
       "</div>"
      ],
      "text/plain": [
       "              stars                                               text\n",
       "151155   __label__5  Ruth s Chris is terrific in every way . Servic...\n",
       "4128278  __label__2  Visited in 2012 \\ / 13 - Amazing , 5 \\ / 5 sta...\n",
       "4938406  __label__2  This seems to me like a mash up between Granvi...\n",
       "1634389  __label__4  What a treasure ! It s hidden behind downtown ...\n",
       "93980    __label__4  My brother in law took us here for dinner , th..."
      ]
     },
     "execution_count": 10,
     "metadata": {},
     "output_type": "execute_result"
    }
   ],
   "source": [
    "test.head()"
   ]
  },
  {
   "cell_type": "markdown",
   "metadata": {},
   "source": [
    "\n",
    "# Model training"
   ]
  },
  {
   "cell_type": "code",
   "execution_count": 13,
   "metadata": {},
   "outputs": [],
   "source": [
    "train.to_csv(\"nb_train_1.csv\", sep=\"\\t\", quoting=csv.QUOTE_NONE, index=False, header=False)\n",
    "nb_model = fastText.train_supervised(input=train_file, epoch=25, lr=1.0, wordNgrams=2, verbose=2, minCount=1)"
   ]
  },
  {
   "cell_type": "code",
   "execution_count": 22,
   "metadata": {},
   "outputs": [],
   "source": [
    "test.to_csv(\"nb_test_1.csv\", sep=\"\\t\", quoting=csv.QUOTE_NONE, index=False, header=False)"
   ]
  },
  {
   "cell_type": "code",
   "execution_count": 24,
   "metadata": {},
   "outputs": [],
   "source": [
    "test_file = 'nb_test_1.csv'"
   ]
  },
  {
   "cell_type": "code",
   "execution_count": 14,
   "metadata": {},
   "outputs": [],
   "source": [
    "# nb_model.save_model('nb_model.bin')"
   ]
  },
  {
   "cell_type": "markdown",
   "metadata": {},
   "source": [
    "# Prediction"
   ]
  },
  {
   "cell_type": "code",
   "execution_count": 15,
   "metadata": {},
   "outputs": [],
   "source": [
    "nb_model = fastText.load_model('nb_model.bin')"
   ]
  },
  {
   "cell_type": "code",
   "execution_count": 16,
   "metadata": {},
   "outputs": [
    {
     "data": {
      "text/plain": [
       "array([-1.1095498 ,  0.54911035,  0.15394951, -0.51039344,  0.583803  ,\n",
       "       -0.50851107,  0.37289533,  0.01636588,  0.12660414,  0.20874849,\n",
       "        0.7286935 ,  0.61629766, -1.1506519 , -0.766879  , -0.81863344,\n",
       "        0.24394365, -0.12309986,  0.4162688 ,  0.7556536 , -0.32927552,\n",
       "        0.6587452 ,  0.52663594, -0.5493853 ,  0.7298485 , -0.1506455 ,\n",
       "        0.63257647,  0.13715762,  0.27539858, -0.08073968,  0.00704558,\n",
       "        0.19949469, -0.82705384, -0.27115935,  0.3719119 ,  0.02185969,\n",
       "        0.347432  ,  0.4017768 ,  0.71583086,  0.8204945 , -0.49603835,\n",
       "       -0.9255384 ,  0.08040242, -0.19093616,  0.54763615,  0.48908532,\n",
       "        0.23532659, -0.68320394, -0.37351993,  0.29985318,  0.3808552 ,\n",
       "        0.41384807,  0.28424343, -0.24632967, -0.6575839 ,  0.02728439,\n",
       "       -0.27376357,  0.49227524, -0.06537498,  0.06684245,  0.2356381 ,\n",
       "       -0.1784456 , -0.58833826,  0.05271085, -0.10463373, -0.94547313,\n",
       "        0.1964246 , -0.4133385 ,  0.05162473, -0.15527233, -0.3009281 ,\n",
       "       -0.33277178, -0.0037088 , -0.2825266 , -0.07444274,  0.23283222,\n",
       "        0.23665409,  0.63417906,  0.45072657, -0.25365138, -0.13060185,\n",
       "       -0.64410514, -0.12349959,  1.3431953 ,  0.11262539, -0.48268676,\n",
       "       -0.5218969 , -0.25703475, -0.74729735,  0.7912993 ,  0.44258377,\n",
       "        0.3331692 , -0.12764822, -0.6110978 ,  0.37303844, -0.22873093,\n",
       "        0.40688774, -0.4922766 , -0.17817606,  0.16812901,  0.18533987],\n",
       "      dtype=float32)"
      ]
     },
     "execution_count": 16,
     "metadata": {},
     "output_type": "execute_result"
    }
   ],
   "source": [
    "nb_model.get_word_vector('restaurant')"
   ]
  },
  {
   "cell_type": "code",
   "execution_count": 17,
   "metadata": {},
   "outputs": [
    {
     "data": {
      "text/plain": [
       "array([ 0.25547606,  0.4413526 , -0.08240318, -0.6385485 , -0.02335843,\n",
       "        0.43911085, -0.17623807, -0.19475783,  0.09615021, -0.03455932,\n",
       "        0.01203573, -0.12643096, -0.20251438, -0.17285201, -0.48375872,\n",
       "        0.07234178, -0.16299322,  0.14825174, -0.05846708,  0.08330899,\n",
       "        0.21636859,  0.38362947,  0.00413771,  0.04906473,  0.028698  ,\n",
       "       -0.01380564,  0.04675302, -0.1695306 , -0.08497383, -0.04182607,\n",
       "        0.09143488, -0.080948  ,  0.30152863, -0.19193888, -0.1366362 ,\n",
       "       -0.11873735,  0.05776121,  0.17570911,  0.07423649, -0.04409026,\n",
       "       -0.15293473,  0.17260188,  0.19717413,  0.23917139,  0.41482154,\n",
       "       -0.37129006,  0.01826708,  0.14743373, -0.24582295,  0.68974334,\n",
       "       -0.25384367,  0.11372139, -0.26453814, -0.13872723, -0.22733034,\n",
       "        0.08988665,  0.06324344,  0.08479786, -0.02024735, -0.34709376,\n",
       "       -0.25150836,  0.2652849 ,  0.35600972,  0.18236363,  0.02516754,\n",
       "       -0.35897183,  0.00627075, -0.06815576, -0.28370667,  0.12343328,\n",
       "       -0.312639  ,  0.20981745,  0.16484357, -0.36534995, -0.03733735,\n",
       "       -0.00071324,  0.2159197 ,  0.21729243,  0.24203031, -0.05025432,\n",
       "       -0.03814495,  0.07155296,  0.48189133, -0.23013332, -0.02664305,\n",
       "        0.09326329,  0.16582769,  0.0952509 , -0.10017669,  0.48616904,\n",
       "        0.15949738, -0.04444481, -0.16526528, -0.23832731, -0.05696587,\n",
       "       -0.446389  , -0.37988102,  0.09423292, -0.16125362, -0.06640418],\n",
       "      dtype=float32)"
      ]
     },
     "execution_count": 17,
     "metadata": {},
     "output_type": "execute_result"
    }
   ],
   "source": [
    "nb_model.get_sentence_vector('I love this restaurant')"
   ]
  },
  {
   "cell_type": "code",
   "execution_count": 18,
   "metadata": {},
   "outputs": [
    {
     "data": {
      "text/plain": [
       "(('__label__5',), array([0.99954975]))"
      ]
     },
     "execution_count": 18,
     "metadata": {},
     "output_type": "execute_result"
    }
   ],
   "source": [
    "nb_model.predict('I love this restaurant')"
   ]
  },
  {
   "cell_type": "code",
   "execution_count": 19,
   "metadata": {},
   "outputs": [
    {
     "data": {
      "text/plain": [
       "(('__label__5', '__label__4', '__label__2'),\n",
       " array([0.99954975, 0.00047025, 0.00001   ]))"
      ]
     },
     "execution_count": 19,
     "metadata": {},
     "output_type": "execute_result"
    }
   ],
   "source": [
    "nb_model.predict('I love this restaurant', k=3)"
   ]
  },
  {
   "cell_type": "markdown",
   "metadata": {},
   "source": [
    "# Model Performance"
   ]
  },
  {
   "cell_type": "markdown",
   "metadata": {},
   "source": [
    "# Pricision and recall for single label"
   ]
  },
  {
   "cell_type": "code",
   "execution_count": 20,
   "metadata": {},
   "outputs": [],
   "source": [
    "def print_results(N, p, r):\n",
    "    print(\"N\\t\" + str(N))\n",
    "    print(\"P@{}\\t{:.3f}\".format(1, p))\n",
    "    print(\"R@{}\\t{:.3f}\".format(1, r))"
   ]
  },
  {
   "cell_type": "code",
   "execution_count": 25,
   "metadata": {},
   "outputs": [
    {
     "name": "stdout",
     "output_type": "stream",
     "text": [
      "N\t1052334\n",
      "P@1\t0.726\n",
      "R@1\t0.726\n"
     ]
    }
   ],
   "source": [
    "print_results(*nb_model.test(test_file))"
   ]
  },
  {
   "cell_type": "code",
   "execution_count": 26,
   "metadata": {},
   "outputs": [
    {
     "name": "stdout",
     "output_type": "stream",
     "text": [
      "N\t1052334\n",
      "P@5\t0.200\n",
      "R@5\t1.000\n"
     ]
    }
   ],
   "source": [
    "n, p, r = nb_model.test(test_file, 5)\n",
    "print(\"N\\t\" + str(n))\n",
    "print(\"P@{}\\t{:.3f}\".format(5, p))\n",
    "print(\"R@{}\\t{:.3f}\".format(5, r))"
   ]
  },
  {
   "cell_type": "code",
   "execution_count": 27,
   "metadata": {},
   "outputs": [],
   "source": [
    "def get_true_postive_count(cm, model, df, label_column_name, text_column_name, target_class):\n",
    "    predictions = [model.predict(x)[0][0] for x in df[df[label_column_name] == target_class][text_column_name]]\n",
    "    tp_count = len(list(filter(lambda x: x==target_class, predictions)))\n",
    "    index = np.where(cm==tp_count)\n",
    "    if index[0][0] == index[1][0]:\n",
    "        return index[0][0]\n",
    "    else:\n",
    "        raise ValueError('COuld not find the index ' + index)\n",
    "        \n",
    "        \n",
    "def resolve_labels_sequence(classes, cm, model, df, label_column_name, text_column_name):\n",
    "    target_seq = [0] * len(classes)\n",
    "    for label in classes:\n",
    "        index = get_true_postive_count(cm, model, df, label_column_name, text_column_name, label)\n",
    "        target_seq[index] = label\n",
    "    return target_seq\n",
    "\n",
    "\n",
    "def fasttext_confusion_matrix(model, pd_test_data, label_column_name, text_column_name):\n",
    "    test_labels = pd_test_data[label_column_name]\n",
    "    test_labels = np.array(test_labels)\n",
    "    _classes = list(set(test_labels))\n",
    "    pred_labels = [model.predict(x)[0][0] for x in pd_test_data[text_column_name]]\n",
    "    pred_labels = np.array(pred_labels)\n",
    "    eq = test_labels == pred_labels\n",
    "    print(\"Accuracy: \" + str(eq.sum() / len(test_labels)))\n",
    "    cm = confusion_matrix(test_labels, pred_labels)\n",
    "    labels = resolve_labels_sequence(_classes, cm, model, pd_test_data, label_column_name, text_column_name)\n",
    "    print(labels)\n",
    "    print(confusion_matrix(test_labels, pred_labels, labels=labels))\n",
    "    df_cm = pd.DataFrame(cm, index = labels, columns = labels)\n",
    "    plt.figure(figsize = (10,7))\n",
    "    sn.heatmap(df_cm, annot=True)"
   ]
  },
  {
   "cell_type": "code",
   "execution_count": 28,
   "metadata": {},
   "outputs": [
    {
     "name": "stdout",
     "output_type": "stream",
     "text": [
      "Accuracy: 0.7257990333867385\n",
      "['__label__1', '__label__2', '__label__3', '__label__4', '__label__5']\n",
      "[[120563  15070   5677   2270   2413]\n",
      " [ 16302  49604  15310   4753   1500]\n",
      " [  4558  12728  67858  31281   6366]\n",
      " [  1778   3223  19245 157150  63594]\n",
      " [  2664   1890   6676  71253 368608]]\n"
     ]
    },
    {
     "data": {
      "image/png": "[encoded data removed]",
      "text/plain": [
       "<Figure size 720x504 with 2 Axes>"
      ]
     },
     "metadata": {
      "needs_background": "light"
     },
     "output_type": "display_data"
    }
   ],
   "source": [
    "fasttext_confusion_matrix(nb_model, test, 'stars', 'text')"
   ]
  },
  {
   "cell_type": "code",
   "execution_count": null,
   "metadata": {},
   "outputs": [],
   "source": []
  },
  {
   "cell_type": "code",
   "execution_count": null,
   "metadata": {},
   "outputs": [],
   "source": []
  },
  {
   "cell_type": "code",
   "execution_count": null,
   "metadata": {},
   "outputs": [],
   "source": []
  }
 ],
 "metadata": {
  "kernelspec": {
   "display_name": "Python 3",
   "language": "python",
   "name": "python3"
  },
  "language_info": {
   "codemirror_mode": {
    "name": "ipython",
    "version": 3
   },
   "file_extension": ".py",
   "mimetype": "text/x-python",
   "name": "python",
   "nbconvert_exporter": "python",
   "pygments_lexer": "ipython3",
   "version": "3.6.7"
  }
 },
 "nbformat": 4,
 "nbformat_minor": 2
}
